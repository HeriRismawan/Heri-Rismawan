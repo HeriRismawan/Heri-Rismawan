{
  "cells": [
    {
      "cell_type": "code",
      "execution_count": null,
      "metadata": {
        "id": "o3a3PYxyNi_H"
      },
      "outputs": [],
      "source": [
        "import pandas as pd\n",
        "import numpy as np\n",
        "import matplotlib.pyplot as plt\n",
        "import seaborn as sns"
      ]
    },
    {
      "cell_type": "code",
      "execution_count": null,
      "metadata": {
        "id": "oWtuBeDBNrwd"
      },
      "outputs": [],
      "source": [
        "from sklearn.model_selection import train_test_split, GridSearchCV\n",
        "from sklearn.preprocessing import StandardScaler\n",
        "from sklearn.linear_model import LogisticRegression\n",
        "from sklearn.ensemble import RandomForestClassifier\n",
        "from sklearn.metrics import classification_report, roc_auc_score, roc_curve, accuracy_score\n",
        "import xgboost as xgb"
      ]
    },
    {
      "cell_type": "code",
      "execution_count": null,
      "metadata": {
        "colab": {
          "base_uri": "https://localhost:8080/"
        },
        "id": "GDwm30M5N5KD",
        "outputId": "bbbc1761-c5d1-4fb9-9e25-8ac2dbb731cc"
      },
      "outputs": [
        {
          "output_type": "stream",
          "name": "stdout",
          "text": [
            "Drive already mounted at /content/drive; to attempt to forcibly remount, call drive.mount(\"/content/drive\", force_remount=True).\n",
            "Kolom dalam dataset: Index(['SK_ID_PREV', 'SK_ID_CURR', 'MONTHS_BALANCE', 'AMT_BALANCE',\n",
            "       'AMT_CREDIT_LIMIT_ACTUAL', 'AMT_DRAWINGS_ATM_CURRENT',\n",
            "       'AMT_DRAWINGS_CURRENT', 'AMT_DRAWINGS_OTHER_CURRENT',\n",
            "       'AMT_DRAWINGS_POS_CURRENT', 'AMT_INST_MIN_REGULARITY',\n",
            "       'AMT_PAYMENT_CURRENT', 'AMT_PAYMENT_TOTAL_CURRENT',\n",
            "       'AMT_RECEIVABLE_PRINCIPAL', 'AMT_RECIVABLE', 'AMT_TOTAL_RECEIVABLE',\n",
            "       'CNT_DRAWINGS_ATM_CURRENT', 'CNT_DRAWINGS_CURRENT',\n",
            "       'CNT_DRAWINGS_OTHER_CURRENT', 'CNT_DRAWINGS_POS_CURRENT',\n",
            "       'CNT_INSTALMENT_MATURE_CUM', 'NAME_CONTRACT_STATUS', 'SK_DPD',\n",
            "       'SK_DPD_DEF'],\n",
            "      dtype='object')\n"
          ]
        }
      ],
      "source": [
        "from google.colab import drive\n",
        "drive.mount('/content/drive')\n",
        "\n",
        "import pandas as pd\n",
        "\n",
        "# Ganti path dengan path ke file di Google Drive Anda\n",
        "file_path = '/content/drive/My Drive/Colab Notebooks/credit_card_balance.csv'\n",
        "df = pd.read_csv(file_path)\n",
        "\n",
        "# Validasi dataset\n",
        "if df.empty:\n",
        "    raise ValueError(\"Dataset kosong. Pastikan file 'credit_card_balance.csv' memiliki data.\")\n",
        "print(\"Kolom dalam dataset:\", df.columns)"
      ]
    },
    {
      "cell_type": "code",
      "execution_count": null,
      "metadata": {
        "id": "06UXJC2HPyXW"
      },
      "outputs": [],
      "source": [
        "# Drop mostly-empty columns\n",
        "df = df.dropna(thresh=len(df)*0.5, axis=1)"
      ]
    },
    {
      "cell_type": "code",
      "execution_count": null,
      "metadata": {
        "id": "pPqLQrZyP2U2"
      },
      "outputs": [],
      "source": [
        "# Fill missing\n",
        "df = df.fillna(df.median(numeric_only=True))"
      ]
    },
    {
      "cell_type": "code",
      "execution_count": null,
      "metadata": {
        "id": "m4BassPOP6GB"
      },
      "outputs": [],
      "source": [
        "# Encode categoricals\n",
        "for col in df.select_dtypes('object'):\n",
        "    df[col] = pd.factorize(df[col])[0]"
      ]
    },
    {
      "cell_type": "code",
      "execution_count": null,
      "metadata": {
        "colab": {
          "base_uri": "https://localhost:8080/"
        },
        "id": "n_dL_hcgP-rY",
        "outputId": "f304b01b-e9d7-4c56-be90-c2e517947741"
      },
      "outputs": [
        {
          "output_type": "stream",
          "name": "stdout",
          "text": [
            "Kolom 'DAYS_CREDIT' atau 'AMT_CREDIT_MAX_OVERDUE' tidak ditemukan. Membuat target simulasi alternatif.\n",
            "Kolom 'TARGET' telah dibuat secara simulasi.\n"
          ]
        }
      ],
      "source": [
        "# Create simulated target if 'TARGET' column doesn't exist\n",
        "if 'TARGET' not in df.columns:\n",
        "    try:\n",
        "        df['TARGET'] = ((df['DAYS_CREDIT'] < -1000) & (df['AMT_CREDIT_MAX_OVERDUE'] > 0)).astype(int)\n",
        "    except KeyError:\n",
        "        print(\"Kolom 'DAYS_CREDIT' atau 'AMT_CREDIT_MAX_OVERDUE' tidak ditemukan. Membuat target simulasi alternatif.\")\n",
        "        df['TARGET'] = np.random.randint(0, 2, size=len(df))  # Target acak 0 atau 1\n",
        "        # Atau gunakan logika lain yang sesuai dengan dataset Anda\n",
        "    print(\"Kolom 'TARGET' telah dibuat secara simulasi.\")"
      ]
    },
    {
      "cell_type": "code",
      "execution_count": null,
      "metadata": {
        "id": "0j0AqLxHQPTz"
      },
      "outputs": [],
      "source": [
        "# Define features and target\n",
        "if 'SK_ID_CURR' in df.columns:\n",
        "    X = df.drop(['SK_ID_CURR', 'TARGET'], axis=1)\n",
        "else:\n",
        "    X = df.drop(['TARGET'], axis=1)\n",
        "y = df['TARGET']"
      ]
    },
    {
      "cell_type": "code",
      "execution_count": null,
      "metadata": {
        "id": "wyutFayGSJov"
      },
      "outputs": [],
      "source": [
        "# Scale features\n",
        "scaler = StandardScaler()\n",
        "X_scaled = scaler.fit_transform(X)"
      ]
    },
    {
      "cell_type": "code",
      "execution_count": null,
      "metadata": {
        "id": "SNVzmLn6SNbv"
      },
      "outputs": [],
      "source": [
        "# Train-test split\n",
        "X_train, X_test, y_train, y_test = train_test_split(X_scaled, y, test_size=0.2, random_state=42)"
      ]
    },
    {
      "cell_type": "code",
      "execution_count": null,
      "metadata": {
        "colab": {
          "base_uri": "https://localhost:8080/"
        },
        "id": "wqd-9unlSSEK",
        "outputId": "8957057a-9d0c-45d3-962c-d2624557df68"
      },
      "outputs": [
        {
          "output_type": "stream",
          "name": "stdout",
          "text": [
            "Logistic Regression:\n",
            "              precision    recall  f1-score   support\n",
            "\n",
            "           0       0.50      0.67      0.57    384198\n",
            "           1       0.50      0.33      0.40    383865\n",
            "\n",
            "    accuracy                           0.50    768063\n",
            "   macro avg       0.50      0.50      0.48    768063\n",
            "weighted avg       0.50      0.50      0.48    768063\n",
            "\n",
            "AUC: 0.49937522948369834\n"
          ]
        }
      ],
      "source": [
        "# --- Model 1: Logistic Regression ---\n",
        "logreg = LogisticRegression(max_iter=1000)\n",
        "logreg.fit(X_train, y_train)\n",
        "y_pred_logreg = logreg.predict(X_test)\n",
        "print(\"Logistic Regression:\")\n",
        "print(classification_report(y_test, y_pred_logreg))\n",
        "print(\"AUC:\", roc_auc_score(y_test, logreg.predict_proba(X_test)[:,1]))"
      ]
    },
    {
      "cell_type": "code",
      "execution_count": null,
      "metadata": {
        "colab": {
          "base_uri": "https://localhost:8080/"
        },
        "id": "lVBI47Q8SYiZ",
        "outputId": "880648eb-c553-49a4-9446-fed3e935801c"
      },
      "outputs": [
        {
          "output_type": "stream",
          "name": "stdout",
          "text": [
            "Random Forest (Tuned):\n",
            "              precision    recall  f1-score   support\n",
            "\n",
            "           0       0.50      0.54      0.52    384198\n",
            "           1       0.50      0.46      0.48    383865\n",
            "\n",
            "    accuracy                           0.50    768063\n",
            "   macro avg       0.50      0.50      0.50    768063\n",
            "weighted avg       0.50      0.50      0.50    768063\n",
            "\n",
            "AUC: 0.4995418323211376\n"
          ]
        }
      ],
      "source": [
        "# --- Model 2: Random Forest with GridSearch ---\n",
        "param_grid = {\n",
        "    'n_estimators': [100, 200],\n",
        "    'max_depth': [5, 10, None],\n",
        "    'max_samples': [0.0008, 0.0005] # Menambahkan max_samples untuk membatasi penggunaan dataset\n",
        "}\n",
        "rf = RandomForestClassifier(random_state=42)\n",
        "grid_rf = GridSearchCV(rf, param_grid, cv=3, scoring='roc_auc')\n",
        "grid_rf.fit(X_train, y_train)\n",
        "best_rf = grid_rf.best_estimator_\n",
        "y_pred_rf = best_rf.predict(X_test)\n",
        "print(\"Random Forest (Tuned):\")\n",
        "print(classification_report(y_test, y_pred_rf))\n",
        "print(\"AUC:\", roc_auc_score(y_test, best_rf.predict_proba(X_test)[:,1]))"
      ]
    },
    {
      "cell_type": "code",
      "execution_count": null,
      "metadata": {
        "colab": {
          "base_uri": "https://localhost:8080/"
        },
        "id": "yaas-erlXWkf",
        "outputId": "8bc36fc3-3e33-4a93-e4b4-3435035497bc"
      },
      "outputs": [
        {
          "output_type": "stream",
          "name": "stderr",
          "text": [
            "/usr/local/lib/python3.11/dist-packages/xgboost/core.py:158: UserWarning: [05:23:11] WARNING: /workspace/src/learner.cc:740: \n",
            "Parameters: { \"use_label_encoder\" } are not used.\n",
            "\n",
            "  warnings.warn(smsg, UserWarning)\n"
          ]
        },
        {
          "output_type": "stream",
          "name": "stdout",
          "text": [
            "XGBoost:\n",
            "              precision    recall  f1-score   support\n",
            "\n",
            "           0       0.50      0.53      0.52    384198\n",
            "           1       0.50      0.47      0.48    383865\n",
            "\n",
            "    accuracy                           0.50    768063\n",
            "   macro avg       0.50      0.50      0.50    768063\n",
            "weighted avg       0.50      0.50      0.50    768063\n",
            "\n",
            "AUC: 0.5001309660181397\n"
          ]
        }
      ],
      "source": [
        "# --- Model 3: XGBoost ---\n",
        "xgb_clf = xgb.XGBClassifier(use_label_encoder=False, eval_metric='logloss')\n",
        "xgb_clf.fit(X_train, y_train)\n",
        "y_pred_xgb = xgb_clf.predict(X_test)\n",
        "print(\"XGBoost:\")\n",
        "print(classification_report(y_test, y_pred_xgb))\n",
        "print(\"AUC:\", roc_auc_score(y_test, xgb_clf.predict_proba(X_test)[:,1]))"
      ]
    },
    {
      "cell_type": "code",
      "execution_count": null,
      "metadata": {
        "colab": {
          "base_uri": "https://localhost:8080/",
          "height": 522
        },
        "id": "VYgJAyzHXl0K",
        "outputId": "efa50e66-c152-4413-e257-bd659072cf9a"
      },
      "outputs": [
        {
          "output_type": "display_data",
          "data": {
            "text/plain": [
              "<Figure size 800x600 with 1 Axes>"
            ],
            "image/png": "[encoded data removed]"
          },
          "metadata": {}
        }
      ],
      "source": [
        "# --- Visualize ROC Curve ---\n",
        "plt.figure(figsize=(8,6))\n",
        "for name, model in zip(\n",
        "    ['Logistic Regression', 'Random Forest', 'XGBoost'],\n",
        "    [logreg, best_rf, xgb_clf]\n",
        "):\n",
        "    try:\n",
        "        fpr, tpr, _ = roc_curve(y_test, model.predict_proba(X_test)[:,1])\n",
        "        plt.plot(fpr, tpr, label=f\"{name} (AUC = {roc_auc_score(y_test, model.predict_proba(X_test)[:,1]):.2f})\")\n",
        "    except Exception as e:\n",
        "        print(f\"Error plotting ROC for {name}: {e}\")"
      ]
    },
    {
      "cell_type": "code",
      "execution_count": null,
      "metadata": {
        "colab": {
          "base_uri": "https://localhost:8080/",
          "height": 543
        },
        "id": "9ZzeGGo1Xo8y",
        "outputId": "2e0dc804-8a20-4dcb-fc44-fd68575c2b29"
      },
      "outputs": [
        {
          "output_type": "stream",
          "name": "stderr",
          "text": [
            "<ipython-input-29-9aada1a94158>:5: UserWarning: No artists with labels found to put in legend.  Note that artists whose label start with an underscore are ignored when legend() is called with no argument.\n",
            "  plt.legend()\n"
          ]
        },
        {
          "output_type": "display_data",
          "data": {
            "text/plain": [
              "<Figure size 640x480 with 1 Axes>"
            ],
            "image/png": "[encoded data removed]"
          },
          "metadata": {}
        }
      ],
      "source": [
        "plt.plot([0, 1], [0, 1], 'k--')\n",
        "plt.title(\"ROC Curve Comparison\")\n",
        "plt.xlabel(\"False Positive Rate\")\n",
        "plt.ylabel(\"True Positive Rate\")\n",
        "plt.legend()\n",
        "plt.tight_layout()\n",
        "plt.show()"
      ]
    }
  ],
  "metadata": {
    "colab": {
      "provenance": []
    },
    "kernelspec": {
      "display_name": "Python 3",
      "name": "python3"
    },
    "language_info": {
      "name": "python"
    }
  },
  "nbformat": 4,
  "nbformat_minor": 0
}